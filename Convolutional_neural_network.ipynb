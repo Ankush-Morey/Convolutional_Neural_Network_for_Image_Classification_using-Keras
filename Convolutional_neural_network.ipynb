{
 "cells": [
  {
   "cell_type": "markdown",
   "metadata": {
    "id": "3DR-eO17geWu"
   },
   "source": [
    "# Convolutional Neural Network"
   ]
  },
  {
   "cell_type": "markdown",
   "metadata": {
    "id": "EMefrVPCg-60"
   },
   "source": [
    "### Importing the libraries"
   ]
  },
  {
   "cell_type": "code",
   "execution_count": 11,
   "metadata": {
    "id": "Y3MPOCoFZsOT"
   },
   "outputs": [],
   "source": [
    "import tensorflow as tf\n",
    "from keras.preprocessing.image import ImageDataGenerator"
   ]
  },
  {
   "cell_type": "code",
   "execution_count": 12,
   "metadata": {
    "colab": {
     "base_uri": "https://localhost:8080/",
     "height": 35
    },
    "id": "Y3BxBZzqZ_ZA",
    "outputId": "72793717-21b0-4ea4-b7a0-7768023e7179"
   },
   "outputs": [
    {
     "data": {
      "text/plain": [
       "'2.4.1'"
      ]
     },
     "execution_count": 12,
     "metadata": {},
     "output_type": "execute_result"
    }
   ],
   "source": [
    "tf.__version__"
   ]
  },
  {
   "cell_type": "code",
   "execution_count": 13,
   "metadata": {
    "colab": {
     "base_uri": "https://localhost:8080/",
     "height": 35
    },
    "id": "yJ0nt6G3a8Ax",
    "outputId": "933311ef-0e4a-4782-eda1-3580afe4824d"
   },
   "outputs": [
    {
     "data": {
      "text/plain": [
       "'C:\\\\Users\\\\ankus\\\\Desktop\\\\Ankush\\\\BANA\\\\DJ S\\\\Ud_CN\\\\Section+40+-+Convolutional+Neural+Networks+(CNN)\\\\Section 40 - Convolutional Neural Networks (CNN)'"
      ]
     },
     "execution_count": 13,
     "metadata": {},
     "output_type": "execute_result"
    }
   ],
   "source": [
    "import os\n",
    "os.getcwd()"
   ]
  },
  {
   "cell_type": "markdown",
   "metadata": {
    "id": "oxQxCBWyoGPE"
   },
   "source": [
    "## Part 1 - Data Preprocessing"
   ]
  },
  {
   "cell_type": "markdown",
   "metadata": {
    "id": "MvE-heJNo3GG"
   },
   "source": [
    "### Preprocessing the Training set"
   ]
  },
  {
   "cell_type": "code",
   "execution_count": 14,
   "metadata": {
    "colab": {
     "base_uri": "https://localhost:8080/",
     "height": 431
    },
    "id": "qwskFWj2aTBr",
    "outputId": "c390ca4d-7234-411a-c0d6-14765c37ca0d"
   },
   "outputs": [
    {
     "name": "stdout",
     "output_type": "stream",
     "text": [
      "Found 8000 images belonging to 2 classes.\n"
     ]
    }
   ],
   "source": [
    "train_datagen = ImageDataGenerator(\n",
    "        rescale=1./255,\n",
    "        shear_range=0.2,\n",
    "        zoom_range=0.2,\n",
    "        horizontal_flip=True)\n",
    "training_set = train_datagen.flow_from_directory(\n",
    "        'dataset/training_set',\n",
    "        target_size=(64, 64),\n",
    "        batch_size=32,\n",
    "        class_mode='binary')\n"
   ]
  },
  {
   "cell_type": "markdown",
   "metadata": {
    "id": "mrCMmGw9pHys"
   },
   "source": [
    "### Preprocessing the Test set"
   ]
  },
  {
   "cell_type": "code",
   "execution_count": 15,
   "metadata": {
    "id": "2vz1hKa-bimv"
   },
   "outputs": [
    {
     "name": "stdout",
     "output_type": "stream",
     "text": [
      "Found 2000 images belonging to 2 classes.\n"
     ]
    }
   ],
   "source": [
    "test_datagen = ImageDataGenerator(rescale=1./255)\n",
    "test_set = test_datagen.flow_from_directory(\n",
    "        'dataset/test_set',\n",
    "        target_size=(64, 64),\n",
    "        batch_size=32,\n",
    "        class_mode='binary')"
   ]
  },
  {
   "cell_type": "markdown",
   "metadata": {
    "id": "af8O4l90gk7B"
   },
   "source": [
    "## Part 2 - Building the CNN"
   ]
  },
  {
   "cell_type": "markdown",
   "metadata": {
    "id": "ces1gXY2lmoX"
   },
   "source": [
    "### Initialising the CNN"
   ]
  },
  {
   "cell_type": "code",
   "execution_count": 16,
   "metadata": {
    "id": "GpbtfzeVgLtI"
   },
   "outputs": [],
   "source": [
    "cnn = tf.keras.models.Sequential()"
   ]
  },
  {
   "cell_type": "markdown",
   "metadata": {
    "id": "u5YJj_XMl5LF"
   },
   "source": [
    "### Step 1 - Convolution"
   ]
  },
  {
   "cell_type": "code",
   "execution_count": 17,
   "metadata": {
    "id": "VDwDaJuvgS4E"
   },
   "outputs": [],
   "source": [
    "cnn.add(tf.keras.layers.Conv2D(filters=32,kernel_size=3,activation='relu',input_shape=[64,64,3]))"
   ]
  },
  {
   "cell_type": "markdown",
   "metadata": {
    "id": "tf87FpvxmNOJ"
   },
   "source": [
    "### Step 2 - Pooling"
   ]
  },
  {
   "cell_type": "code",
   "execution_count": 18,
   "metadata": {
    "id": "PtdtxUlEgy0Z"
   },
   "outputs": [],
   "source": [
    "cnn.add(tf.keras.layers.MaxPool2D(pool_size=2,strides=2))"
   ]
  },
  {
   "cell_type": "markdown",
   "metadata": {
    "id": "xaTOgD8rm4mU"
   },
   "source": [
    "### Adding a second convolutional layer"
   ]
  },
  {
   "cell_type": "code",
   "execution_count": 19,
   "metadata": {
    "id": "EfCgyF36hGbT"
   },
   "outputs": [],
   "source": [
    "cnn.add(tf.keras.layers.Conv2D(filters=32,kernel_size=3,activation='relu'))\n",
    "cnn.add(tf.keras.layers.MaxPool2D(pool_size=2,strides=2))"
   ]
  },
  {
   "cell_type": "markdown",
   "metadata": {
    "id": "tmiEuvTunKfk"
   },
   "source": [
    "### Step 3 - Flattening"
   ]
  },
  {
   "cell_type": "code",
   "execution_count": 20,
   "metadata": {
    "id": "NphQKitlhL9y"
   },
   "outputs": [],
   "source": [
    "cnn.add(tf.keras.layers.Flatten())"
   ]
  },
  {
   "cell_type": "markdown",
   "metadata": {
    "id": "dAoSECOm203v"
   },
   "source": [
    "### Step 4 - Full Connection"
   ]
  },
  {
   "cell_type": "code",
   "execution_count": 21,
   "metadata": {
    "id": "5FIoqaJBhQ9M"
   },
   "outputs": [],
   "source": [
    "cnn.add(tf.keras.layers.Dense(units=128,activation='relu'))"
   ]
  },
  {
   "cell_type": "markdown",
   "metadata": {
    "id": "yTldFvbX28Na"
   },
   "source": [
    "### Step 5 - Output Layer"
   ]
  },
  {
   "cell_type": "code",
   "execution_count": 22,
   "metadata": {
    "id": "F87xn4b1herS"
   },
   "outputs": [],
   "source": [
    "cnn.add(tf.keras.layers.Dense(units=1,activation='sigmoid'))"
   ]
  },
  {
   "cell_type": "markdown",
   "metadata": {
    "id": "D6XkI90snSDl"
   },
   "source": [
    "## Part 3 - Training the CNN"
   ]
  },
  {
   "cell_type": "markdown",
   "metadata": {
    "id": "vfrFQACEnc6i"
   },
   "source": [
    "### Compiling the CNN"
   ]
  },
  {
   "cell_type": "code",
   "execution_count": 23,
   "metadata": {
    "id": "89zl1u6oC0O3"
   },
   "outputs": [],
   "source": [
    "cnn.compile(optimizer='adam',loss='binary_crossentropy',metrics=['accuracy'])"
   ]
  },
  {
   "cell_type": "markdown",
   "metadata": {
    "id": "ehS-v3MIpX2h"
   },
   "source": [
    "### Training the CNN on the Training set and evaluating it on the Test set"
   ]
  },
  {
   "cell_type": "code",
   "execution_count": 24,
   "metadata": {
    "colab": {
     "base_uri": "https://localhost:8080/",
     "height": 171
    },
    "id": "kWNn8xdyDQb_",
    "outputId": "977d729c-115c-46d4-8f61-8fed55cf237c"
   },
   "outputs": [
    {
     "name": "stdout",
     "output_type": "stream",
     "text": [
      "Epoch 1/50\n",
      "250/250 [==============================] - 79s 310ms/step - loss: 0.6933 - accuracy: 0.5358 - val_loss: 0.6229 - val_accuracy: 0.6775\n",
      "Epoch 2/50\n",
      "250/250 [==============================] - 66s 264ms/step - loss: 0.6204 - accuracy: 0.6594 - val_loss: 0.5516 - val_accuracy: 0.7150\n",
      "Epoch 3/50\n",
      "250/250 [==============================] - 66s 263ms/step - loss: 0.5611 - accuracy: 0.7118 - val_loss: 0.5538 - val_accuracy: 0.7295\n",
      "Epoch 4/50\n",
      "250/250 [==============================] - 66s 264ms/step - loss: 0.5364 - accuracy: 0.7280 - val_loss: 0.5147 - val_accuracy: 0.7555\n",
      "Epoch 5/50\n",
      "250/250 [==============================] - 66s 264ms/step - loss: 0.5074 - accuracy: 0.7528 - val_loss: 0.5269 - val_accuracy: 0.7495\n",
      "Epoch 6/50\n",
      "250/250 [==============================] - 67s 267ms/step - loss: 0.4740 - accuracy: 0.7724 - val_loss: 0.4885 - val_accuracy: 0.7695\n",
      "Epoch 7/50\n",
      "250/250 [==============================] - 66s 265ms/step - loss: 0.4831 - accuracy: 0.7644 - val_loss: 0.5336 - val_accuracy: 0.7460\n",
      "Epoch 8/50\n",
      "250/250 [==============================] - 66s 263ms/step - loss: 0.4566 - accuracy: 0.7851 - val_loss: 0.4738 - val_accuracy: 0.7850\n",
      "Epoch 9/50\n",
      "250/250 [==============================] - 67s 267ms/step - loss: 0.4372 - accuracy: 0.7917 - val_loss: 0.4770 - val_accuracy: 0.7805\n",
      "Epoch 10/50\n",
      "250/250 [==============================] - 66s 263ms/step - loss: 0.4277 - accuracy: 0.8037 - val_loss: 0.4790 - val_accuracy: 0.7850\n",
      "Epoch 11/50\n",
      "250/250 [==============================] - 66s 263ms/step - loss: 0.4260 - accuracy: 0.7988 - val_loss: 0.4613 - val_accuracy: 0.7845\n",
      "Epoch 12/50\n",
      "250/250 [==============================] - 4311s 17s/step - loss: 0.4139 - accuracy: 0.8049 - val_loss: 0.4618 - val_accuracy: 0.7945\n",
      "Epoch 13/50\n",
      "250/250 [==============================] - 32s 129ms/step - loss: 0.3885 - accuracy: 0.8208 - val_loss: 0.4646 - val_accuracy: 0.7885\n",
      "Epoch 14/50\n",
      "250/250 [==============================] - 34s 134ms/step - loss: 0.3846 - accuracy: 0.8274 - val_loss: 0.4517 - val_accuracy: 0.7980\n",
      "Epoch 15/50\n",
      "250/250 [==============================] - 65s 260ms/step - loss: 0.3599 - accuracy: 0.8368 - val_loss: 0.4695 - val_accuracy: 0.8015\n",
      "Epoch 16/50\n",
      "250/250 [==============================] - 66s 262ms/step - loss: 0.3678 - accuracy: 0.8389 - val_loss: 0.4643 - val_accuracy: 0.8020\n",
      "Epoch 17/50\n",
      "250/250 [==============================] - 65s 261ms/step - loss: 0.3489 - accuracy: 0.8452 - val_loss: 0.4622 - val_accuracy: 0.7955\n",
      "Epoch 18/50\n",
      "250/250 [==============================] - 66s 262ms/step - loss: 0.3244 - accuracy: 0.8553 - val_loss: 0.4974 - val_accuracy: 0.7970\n",
      "Epoch 19/50\n",
      "250/250 [==============================] - 66s 262ms/step - loss: 0.3268 - accuracy: 0.8621 - val_loss: 0.4587 - val_accuracy: 0.8130\n",
      "Epoch 20/50\n",
      "250/250 [==============================] - 66s 262ms/step - loss: 0.3175 - accuracy: 0.8648 - val_loss: 0.5083 - val_accuracy: 0.8075\n",
      "Epoch 21/50\n",
      "250/250 [==============================] - 66s 264ms/step - loss: 0.3132 - accuracy: 0.8588 - val_loss: 0.5047 - val_accuracy: 0.8065\n",
      "Epoch 22/50\n",
      "250/250 [==============================] - 66s 263ms/step - loss: 0.2859 - accuracy: 0.8730 - val_loss: 0.5400 - val_accuracy: 0.7885\n",
      "Epoch 23/50\n",
      "250/250 [==============================] - 6090s 24s/step - loss: 0.2890 - accuracy: 0.8728 - val_loss: 0.4841 - val_accuracy: 0.8115\n",
      "Epoch 24/50\n",
      "250/250 [==============================] - 32s 129ms/step - loss: 0.2627 - accuracy: 0.8914 - val_loss: 0.5985 - val_accuracy: 0.7880\n",
      "Epoch 25/50\n",
      "250/250 [==============================] - 41s 165ms/step - loss: 0.2462 - accuracy: 0.8943 - val_loss: 0.5291 - val_accuracy: 0.8035\n",
      "Epoch 26/50\n",
      "250/250 [==============================] - 66s 266ms/step - loss: 0.2418 - accuracy: 0.8998 - val_loss: 0.5490 - val_accuracy: 0.7955\n",
      "Epoch 27/50\n",
      "250/250 [==============================] - 66s 264ms/step - loss: 0.2390 - accuracy: 0.9023 - val_loss: 0.5164 - val_accuracy: 0.7980\n",
      "Epoch 28/50\n",
      "250/250 [==============================] - 66s 262ms/step - loss: 0.2118 - accuracy: 0.9152 - val_loss: 0.5559 - val_accuracy: 0.8040\n",
      "Epoch 29/50\n",
      "250/250 [==============================] - 67s 268ms/step - loss: 0.2163 - accuracy: 0.9093 - val_loss: 0.6771 - val_accuracy: 0.7790\n",
      "Epoch 30/50\n",
      "250/250 [==============================] - 67s 268ms/step - loss: 0.2110 - accuracy: 0.9175 - val_loss: 0.5632 - val_accuracy: 0.8020\n",
      "Epoch 31/50\n",
      "250/250 [==============================] - 70s 281ms/step - loss: 0.1879 - accuracy: 0.9251 - val_loss: 0.6344 - val_accuracy: 0.7945\n",
      "Epoch 32/50\n",
      "250/250 [==============================] - 68s 271ms/step - loss: 0.1878 - accuracy: 0.9245 - val_loss: 0.5764 - val_accuracy: 0.7925\n",
      "Epoch 33/50\n",
      "250/250 [==============================] - 69s 277ms/step - loss: 0.1954 - accuracy: 0.9184 - val_loss: 0.5953 - val_accuracy: 0.8055\n",
      "Epoch 34/50\n",
      "250/250 [==============================] - 69s 276ms/step - loss: 0.1680 - accuracy: 0.9335 - val_loss: 0.5786 - val_accuracy: 0.8150\n",
      "Epoch 35/50\n",
      "250/250 [==============================] - 67s 267ms/step - loss: 0.1610 - accuracy: 0.9366 - val_loss: 0.6575 - val_accuracy: 0.7995\n",
      "Epoch 36/50\n",
      "250/250 [==============================] - 66s 262ms/step - loss: 0.1556 - accuracy: 0.9405 - val_loss: 0.6245 - val_accuracy: 0.8080\n",
      "Epoch 37/50\n",
      "250/250 [==============================] - 68s 270ms/step - loss: 0.1478 - accuracy: 0.9447 - val_loss: 0.6547 - val_accuracy: 0.7945\n",
      "Epoch 38/50\n",
      "250/250 [==============================] - 68s 272ms/step - loss: 0.1505 - accuracy: 0.9406 - val_loss: 0.6359 - val_accuracy: 0.8100\n",
      "Epoch 39/50\n",
      "250/250 [==============================] - 69s 277ms/step - loss: 0.1506 - accuracy: 0.9420 - val_loss: 0.7416 - val_accuracy: 0.7955\n",
      "Epoch 40/50\n",
      "250/250 [==============================] - 66s 263ms/step - loss: 0.1381 - accuracy: 0.9433 - val_loss: 0.6711 - val_accuracy: 0.7995\n",
      "Epoch 41/50\n",
      "250/250 [==============================] - 66s 263ms/step - loss: 0.1287 - accuracy: 0.9515 - val_loss: 0.7332 - val_accuracy: 0.7975\n",
      "Epoch 42/50\n",
      "250/250 [==============================] - 66s 264ms/step - loss: 0.1331 - accuracy: 0.9517 - val_loss: 0.7355 - val_accuracy: 0.7990\n",
      "Epoch 43/50\n",
      "250/250 [==============================] - 67s 267ms/step - loss: 0.1087 - accuracy: 0.9599 - val_loss: 0.7970 - val_accuracy: 0.7880\n",
      "Epoch 44/50\n",
      "250/250 [==============================] - 67s 269ms/step - loss: 0.1209 - accuracy: 0.9547 - val_loss: 0.7094 - val_accuracy: 0.8035\n",
      "Epoch 45/50\n",
      "250/250 [==============================] - 66s 263ms/step - loss: 0.1122 - accuracy: 0.9575 - val_loss: 0.8642 - val_accuracy: 0.7850\n",
      "Epoch 46/50\n",
      "250/250 [==============================] - 67s 269ms/step - loss: 0.1101 - accuracy: 0.9577 - val_loss: 0.7557 - val_accuracy: 0.8025\n",
      "Epoch 47/50\n",
      "250/250 [==============================] - 66s 264ms/step - loss: 0.0979 - accuracy: 0.9627 - val_loss: 0.7661 - val_accuracy: 0.8005\n",
      "Epoch 48/50\n",
      "250/250 [==============================] - 67s 270ms/step - loss: 0.0926 - accuracy: 0.9674 - val_loss: 0.7378 - val_accuracy: 0.8065\n",
      "Epoch 49/50\n",
      "250/250 [==============================] - 68s 270ms/step - loss: 0.0995 - accuracy: 0.9625 - val_loss: 0.7933 - val_accuracy: 0.8085\n",
      "Epoch 50/50\n",
      "250/250 [==============================] - 66s 265ms/step - loss: 0.0964 - accuracy: 0.9659 - val_loss: 0.7757 - val_accuracy: 0.8010\n"
     ]
    },
    {
     "data": {
      "text/plain": [
       "<tensorflow.python.keras.callbacks.History at 0x2bf30ddcbe0>"
      ]
     },
     "execution_count": 24,
     "metadata": {},
     "output_type": "execute_result"
    }
   ],
   "source": [
    "cnn.fit(x=training_set,validation_data=test_set,epochs=50)"
   ]
  },
  {
   "cell_type": "markdown",
   "metadata": {
    "id": "U3PZasO0006Z"
   },
   "source": [
    "## Part 4 - Making a single prediction"
   ]
  },
  {
   "cell_type": "code",
   "execution_count": 65,
   "metadata": {
    "id": "bBIfpxYsDijA"
   },
   "outputs": [],
   "source": [
    "import numpy as np\n",
    "from keras_preprocessing import image\n",
    "test_image = image.load_img('dataset/single_prediction/cat_or_dog_8.jpg',target_size=(64,64))\n",
    "test_image = image.img_to_array(test_image)\n",
    "test_image = np.expand_dims(test_image,axis=0)\n",
    "result = cnn.predict(test_image)\n",
    "if result[0][0] == 0:\n",
    "  prediction = 'cat'\n",
    "else:\n",
    "  prediction = 'dog'"
   ]
  },
  {
   "cell_type": "code",
   "execution_count": 66,
   "metadata": {
    "colab": {
     "base_uri": "https://localhost:8080/",
     "height": 171
    },
    "id": "E6ShOKUKIb-p",
    "outputId": "4ca28c81-5a28-44b6-aacd-b3415fa6ec5d"
   },
   "outputs": [
    {
     "name": "stdout",
     "output_type": "stream",
     "text": [
      "cat\n"
     ]
    }
   ],
   "source": [
    "print(prediction)"
   ]
  },
  {
   "cell_type": "code",
   "execution_count": 39,
   "metadata": {},
   "outputs": [
    {
     "data": {
      "text/plain": [
       "{'cats': 0, 'dogs': 1}"
      ]
     },
     "execution_count": 39,
     "metadata": {},
     "output_type": "execute_result"
    }
   ],
   "source": [
    "training_set.class_indices"
   ]
  },
  {
   "cell_type": "code",
   "execution_count": 44,
   "metadata": {},
   "outputs": [
    {
     "data": {
      "text/plain": [
       "1.0"
      ]
     },
     "execution_count": 44,
     "metadata": {},
     "output_type": "execute_result"
    }
   ],
   "source": [
    "result[0][0]"
   ]
  },
  {
   "cell_type": "code",
   "execution_count": 67,
   "metadata": {},
   "outputs": [],
   "source": [
    "cnn.save(\"model.h5\")"
   ]
  },
  {
   "cell_type": "code",
   "execution_count": 64,
   "metadata": {},
   "outputs": [],
   "source": [
    "# load and evaluate a saved model\n",
    "from numpy import loadtxt\n",
    "from keras.models import load_model\n",
    " \n",
    "# load model\n",
    "cnn = load_model('model.h5')\n",
    "# summarize model.\n",
    "#cnn.summary()"
   ]
  },
  {
   "cell_type": "code",
   "execution_count": null,
   "metadata": {},
   "outputs": [],
   "source": []
  }
 ],
 "metadata": {
  "colab": {
   "collapsed_sections": [],
   "name": "Copy of convolutional_neural_network.ipynb",
   "provenance": []
  },
  "kernelspec": {
   "display_name": "Python 3",
   "language": "python",
   "name": "python3"
  },
  "language_info": {
   "codemirror_mode": {
    "name": "ipython",
    "version": 3
   },
   "file_extension": ".py",
   "mimetype": "text/x-python",
   "name": "python",
   "nbconvert_exporter": "python",
   "pygments_lexer": "ipython3",
   "version": "3.8.5"
  }
 },
 "nbformat": 4,
 "nbformat_minor": 1
}
